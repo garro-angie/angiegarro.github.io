{
  "nbformat": 4,
  "nbformat_minor": 0,
  "metadata": {
    "colab": {
      "provenance": [],
      "include_colab_link": true
    },
    "kernelspec": {
      "name": "python3",
      "display_name": "Python 3"
    },
    "language_info": {
      "name": "python"
    }
  },
  "cells": [
    {
      "cell_type": "markdown",
      "metadata": {
        "id": "view-in-github",
        "colab_type": "text"
      },
      "source": [
        "<a href=\"https://colab.research.google.com/github/garro-angie/angiegarro.github.io/blob/main/ANGIE_VERONICA_GARRO_SALAZAR_P3_2024_Tarea_04.ipynb\" target=\"_parent\"><img src=\"https://colab.research.google.com/assets/colab-badge.svg\" alt=\"Open In Colab\"/></a>"
      ]
    },
    {
      "cell_type": "markdown",
      "source": [
        "## Rent a car"
      ],
      "metadata": {
        "id": "TjV008XL2E9h"
      }
    },
    {
      "cell_type": "markdown",
      "source": [
        "Escribe un programa que pregunte al usuario qué tipo de auto de alquiler le gustaría. Imprime un mensaje sobre ese auto, como:\n",
        "\n",
        "\"Déjame ver si puedo encontrarte un: Subaru\".\n",
        "\n",
        "Tips:\n",
        "\n",
        "- Utilice la librería `pyinputplus`.\n",
        "- Recuerde instalar la librería primero: `!pip install pyinputplus`"
      ],
      "metadata": {
        "id": "1pm-u7ep2KJc"
      }
    },
    {
      "cell_type": "code",
      "source": [
        "pip install pyinputplus"
      ],
      "metadata": {
        "colab": {
          "base_uri": "https://localhost:8080/"
        },
        "collapsed": true,
        "id": "aohT4BMNDtI2",
        "outputId": "e579effc-4d7d-41df-aeca-c30b334021f7"
      },
      "execution_count": null,
      "outputs": [
        {
          "output_type": "stream",
          "name": "stdout",
          "text": [
            "Collecting pyinputplus\n",
            "  Downloading PyInputPlus-0.2.12.tar.gz (20 kB)\n",
            "  Installing build dependencies ... \u001b[?25l\u001b[?25hdone\n",
            "  Getting requirements to build wheel ... \u001b[?25l\u001b[?25hdone\n",
            "  Preparing metadata (pyproject.toml) ... \u001b[?25l\u001b[?25hdone\n",
            "Collecting pysimplevalidate>=0.2.7 (from pyinputplus)\n",
            "  Downloading PySimpleValidate-0.2.12.tar.gz (22 kB)\n",
            "  Installing build dependencies ... \u001b[?25l\u001b[?25hdone\n",
            "  Getting requirements to build wheel ... \u001b[?25l\u001b[?25hdone\n",
            "  Preparing metadata (pyproject.toml) ... \u001b[?25l\u001b[?25hdone\n",
            "Collecting stdiomask>=0.0.3 (from pyinputplus)\n",
            "  Downloading stdiomask-0.0.6.tar.gz (3.6 kB)\n",
            "  Installing build dependencies ... \u001b[?25l\u001b[?25hdone\n",
            "  Getting requirements to build wheel ... \u001b[?25l\u001b[?25hdone\n",
            "  Preparing metadata (pyproject.toml) ... \u001b[?25l\u001b[?25hdone\n",
            "Building wheels for collected packages: pyinputplus, pysimplevalidate, stdiomask\n",
            "  Building wheel for pyinputplus (pyproject.toml) ... \u001b[?25l\u001b[?25hdone\n",
            "  Created wheel for pyinputplus: filename=PyInputPlus-0.2.12-py3-none-any.whl size=11298 sha256=ee67b9f8307ca8edf11bb0ce2c5f4c54a9cec7914904108da7e53a85cd053091\n",
            "  Stored in directory: /root/.cache/pip/wheels/13/ec/a5/f780c8008b74e885aada43369ebf4d350edfd12bb5909ccb23\n",
            "  Building wheel for pysimplevalidate (pyproject.toml) ... \u001b[?25l\u001b[?25hdone\n",
            "  Created wheel for pysimplevalidate: filename=PySimpleValidate-0.2.12-py3-none-any.whl size=16176 sha256=6adaf58332ef1ea8056d948624939631621852c3eada2fe45400bf163b99f80c\n",
            "  Stored in directory: /root/.cache/pip/wheels/64/29/c9/2ee861e5b0775e289013b7c7157e0bdcea3a1b844f835b2eb8\n",
            "  Building wheel for stdiomask (pyproject.toml) ... \u001b[?25l\u001b[?25hdone\n",
            "  Created wheel for stdiomask: filename=stdiomask-0.0.6-py3-none-any.whl size=3306 sha256=1572f3e4bcb6f3795d0ddecd0236ea02d7d85fb99d227c0fb1c5cc9e732c583c\n",
            "  Stored in directory: /root/.cache/pip/wheels/6c/00/4b/0715696f101d7376f67a83cf3d545feb8c241eeee75b80bb6f\n",
            "Successfully built pyinputplus pysimplevalidate stdiomask\n",
            "Installing collected packages: stdiomask, pysimplevalidate, pyinputplus\n",
            "Successfully installed pyinputplus-0.2.12 pysimplevalidate-0.2.12 stdiomask-0.0.6\n"
          ]
        }
      ]
    },
    {
      "cell_type": "code",
      "execution_count": null,
      "metadata": {
        "id": "XeR5Moa_2Bm5"
      },
      "outputs": [],
      "source": [
        "# Escriba su respuesta aquí"
      ]
    },
    {
      "cell_type": "code",
      "source": [
        "import pyinputplus as pyid\n",
        "\n",
        "tipo_de_auto = input(\"Qué tipo de auto de alquiler le gustaría?\")\n",
        "tipo_de_auto = tipo_de_auto.capitalize()\n",
        "\n",
        "print(\"Déjame ver si puedo encontrarte un:\", tipo_de_auto)"
      ],
      "metadata": {
        "colab": {
          "base_uri": "https://localhost:8080/"
        },
        "id": "OPXHe3sACBUh",
        "outputId": "258c343e-bf60-4210-d615-0fffcda0014f"
      },
      "execution_count": null,
      "outputs": [
        {
          "output_type": "stream",
          "name": "stdout",
          "text": [
            "Qué tipo de auto de alquiler le gustaría?kia\n",
            "Déjame ver si puedo encontrarte un: Kia\n"
          ]
        }
      ]
    },
    {
      "cell_type": "markdown",
      "source": [
        "## Asientos en un restaurante"
      ],
      "metadata": {
        "id": "Sbk6mrH83AMi"
      }
    },
    {
      "cell_type": "markdown",
      "source": [
        "Escribe un programa que pregunte al usuario cuántas personas hay en su grupo para cenar. Si la respuesta es más de ocho, imprime un mensaje diciendo que tendrán que esperar por una mesa. En caso contrario, informa de que su mesa está lista.\n",
        "\n",
        "Tips:\n",
        "\n",
        "- Utilice la librería `pyinputplus`.\n",
        "- Recuerde instalar la librería primero: `!pip install pyinputplus`"
      ],
      "metadata": {
        "id": "l0Sjgmmg3DBZ"
      }
    },
    {
      "cell_type": "code",
      "source": [
        "# Escriba su respuesta aquí\n",
        "\n",
        "import pyinputplus as pyid\n",
        "\n",
        "numero_personas = pyid.inputInt(\"¿Cuántas personas hay en su grupo para cenar?\")\n",
        "\n",
        "if numero_personas >= 8:\n",
        "  print(\"Tendrán que esperar por una mesa ⏰\")\n",
        "\n",
        "else:\n",
        "  print(\"Adelante, su mesa está lista 🎀\")"
      ],
      "metadata": {
        "id": "esprPbQp3FZb",
        "colab": {
          "base_uri": "https://localhost:8080/"
        },
        "outputId": "937e39f1-9bf6-4edd-a7ce-9ab6a99592d9"
      },
      "execution_count": null,
      "outputs": [
        {
          "output_type": "stream",
          "name": "stdout",
          "text": [
            "¿Cuántas personas hay en su grupo para cenar?8\n",
            "Tendrán que esperar por una mesa ⏰\n"
          ]
        }
      ]
    },
    {
      "cell_type": "markdown",
      "source": [
        "## Múltiplos de diez"
      ],
      "metadata": {
        "id": "05ZNjmsf3T3T"
      }
    },
    {
      "cell_type": "markdown",
      "source": [
        "Pregunte al usuario por un número, y luego informe si el número es múltiplo de 10 o no."
      ],
      "metadata": {
        "id": "beiyF2bg3VtW"
      }
    },
    {
      "cell_type": "code",
      "source": [
        "# Escriba su respuesta aquí\n",
        "\n",
        "import pyinputplus as pyid\n",
        "\n",
        "numero = pyid.inputInt(\"¿Número? \")\n",
        "\n",
        "if numero % 10 == 0:\n",
        "  print(numero, \"es múltiplo de 10\")\n",
        "\n",
        "else:\n",
        "  print(numero, \"no es múltiplo de 10\")"
      ],
      "metadata": {
        "id": "yf5JQJjd3Za2",
        "colab": {
          "base_uri": "https://localhost:8080/"
        },
        "outputId": "6d4317f2-d85e-42c6-ab86-bd0527eaa37a"
      },
      "execution_count": null,
      "outputs": [
        {
          "output_type": "stream",
          "name": "stdout",
          "text": [
            "¿Número? 40\n",
            "40 es múltiplo de 10\n"
          ]
        }
      ]
    },
    {
      "cell_type": "markdown",
      "source": [
        "## Pizza Toppings"
      ],
      "metadata": {
        "id": "NKUqhAEh3njU"
      }
    },
    {
      "cell_type": "markdown",
      "source": [
        "Escribe un bucle `while` que pida al usuario que introduzca una serie de ingredientes de pizza hasta que introduzca un valor \"quit\" (o mientras que su elección sea diferente de \"quit\"). A medida que introducen cada ingrediente, imprime un mensaje diciendo que añadirás ese ingrediente a su pizza."
      ],
      "metadata": {
        "id": "5rCtRL_l3pjR"
      }
    },
    {
      "cell_type": "code",
      "source": [
        "# Escriba su respuesta aquí\n",
        "\n",
        "import pyinputplus as pyid\n",
        "\n",
        "print(\"🍕 Ingrese todos los ingredientes que le gustarían en su pizza, escriba siguiente para pasar a la siguiente pantalla 🍕\")\n",
        "\n",
        "toppings = input(\"¿Cuál ingrediente te gustaría? \")\n",
        "\n",
        "while toppings != \"siguiente\":\n",
        "  toppings = input(\"¿Cuál ingrediente te gustaría? \")\n",
        "\n",
        "print(\"🍕 Ingrese el tipo de masa que le gustaría en su pizza, escriba siguiente para pasar a la siguiente pantalla 🍕\")\n",
        "\n",
        "masa = \" \"\n",
        "masa = input(\"¿Qué tipo de masa te gustaría? \")\n",
        "\n",
        "print(\"¡Perfecto! Pasemos a la siguiente pantalla.\")\n"
      ],
      "metadata": {
        "colab": {
          "base_uri": "https://localhost:8080/"
        },
        "outputId": "aa6cd94f-7dfb-4f1e-815d-d3d526dc898e",
        "collapsed": true,
        "id": "vFBJtcpxMRGc"
      },
      "execution_count": null,
      "outputs": [
        {
          "output_type": "stream",
          "name": "stdout",
          "text": [
            "🍕 Ingrese todos los ingredientes que le gustarían en su pizza, escriba siguiente para pasar a la siguiente pantalla 🍕\n",
            "¿Cuál ingrediente te gustaría? siguiente\n",
            "🍕 Ingrese el tipo de masa que le gustaría en su pizza, escriba siguiente para pasar a la siguiente pantalla 🍕\n",
            "¿Qué tipo de masa te gustaría? del\n",
            "¡Perfecto! Pasemos a la siguiente pantalla.\n"
          ]
        }
      ]
    },
    {
      "cell_type": "markdown",
      "source": [
        "## Libro favorito"
      ],
      "metadata": {
        "id": "oZG97CfQ5SiN"
      }
    },
    {
      "cell_type": "markdown",
      "source": [
        "Escribe una función llamada `libro_favorito()` que acepte un parámetro: `título`. La función debe imprimir un mensaje, como \"Uno de mis libros favoritos es Alicia en el País de las Maravillas\". Llama a la función, asegurándote de incluir el título del libro como argumento en la llamada a la función."
      ],
      "metadata": {
        "id": "fYlVjgna5U-J"
      }
    },
    {
      "cell_type": "code",
      "source": [
        "# Escriba su respuesta aquí\n",
        "\n",
        "import pyinputplus as pyid\n",
        "\n",
        "def libro_favorito(titulo):\n",
        "    print(f\"Uno de mis libros favoritos es {titulo}\")\n",
        "\n",
        "titulo = input(\"Título de tu libro favorito: \")\n",
        "\n",
        "libro_favorito(titulo)\n"
      ],
      "metadata": {
        "id": "S_SUo23T5nI_",
        "colab": {
          "base_uri": "https://localhost:8080/"
        },
        "outputId": "f8784513-7f74-4eab-90ae-10c9a01bf790"
      },
      "execution_count": null,
      "outputs": [
        {
          "output_type": "stream",
          "name": "stdout",
          "text": [
            "Título de tu libro favorito: g\n",
            "Uno de mis libros favoritos es g\n"
          ]
        }
      ]
    },
    {
      "cell_type": "markdown",
      "source": [
        "## Camiseta"
      ],
      "metadata": {
        "id": "3a5mHY1751q5"
      }
    },
    {
      "cell_type": "markdown",
      "source": [
        "Escribe una función llamada `hacer_camiseta()` que acepte una `talla` y el `texto` de un mensaje que debe imprimirse en la camiseta. La función debe imprimir una frase que resuma la talla de la camiseta y el mensaje impreso en ella. Llame a la función una segunda vez utilizando diferentes valores."
      ],
      "metadata": {
        "id": "xoHIsada57z5"
      }
    },
    {
      "cell_type": "code",
      "source": [
        "# Escriba su respuesta aquí\n",
        "\n",
        "import pyinputplus as pyid\n",
        "\n",
        "def hacer_camiseta(talla, texto):\n",
        "    print(f\"Perfecto! La talla de tu camiseta es {talla} y la frase que dirá es {texto} 🎀\")\n",
        "\n",
        "talla = pyid.inputInt(\"¿Cuál es tu talla de camiseta? \", min=1, max=99)\n",
        "texto = input(\"¿Cuál es la frase que va a leerse en tu camiseta? \")\n",
        "\n",
        "hacer_camiseta(talla, texto)\n",
        "\n",
        "print (\"¿Hay algo que desees cambiar?\")"
      ],
      "metadata": {
        "id": "nNtWxS1wb-7b"
      },
      "execution_count": null,
      "outputs": []
    },
    {
      "cell_type": "code",
      "source": [
        "# Prueba con botones, la buena es la de arriba 👆 Kevin, cómo se hace que los botones funcionen? 😪\n",
        "\n",
        "import pyinputplus as pyid\n",
        "from IPython.display import display, HTML\n",
        "\n",
        "def hacer_camiseta(talla, texto):\n",
        "    print(f\"Perfecto! La talla de tu camiseta es {talla} y la frase que dirá es {texto} 🎀\")\n",
        "\n",
        "talla = pyid.inputInt(\"¿Cuál es tu talla de camiseta? \")\n",
        "texto = input(\"¿Cuál es la frase que va a leerse en tu camiseta? \")\n",
        "\n",
        "hacer_camiseta(talla, texto)\n",
        "\n",
        "# print (\"¿Hay algo que desees cambiar?\")\n",
        "\n",
        "def boton_si(event):\n",
        "    display(HTML('<div style=\"color: green; font-size: 20px;\">Seleccionaste: Sí</div>'))\n",
        "    hacer_camiseta\n",
        "\n",
        "def boton_no(event):\n",
        "    display(HTML('<div style=\"color: red; font-size: 20px;\">¿Hay algo que desees cambiar?</div>'))\n",
        "\n",
        "\n",
        "html_si = '<button onclick=\"boton_si(event)\" style=\"padding: 10px; background-color: #CCCCFF; border: none; cursor: pointer; margin: 5px;\">Sí</button>'\n",
        "html_no = '<button onclick=\"boton_no(event)\" style=\"padding: 10px; background-color: #9FE2BF; border: none; cursor: pointer; margin: 5px;\">No</button>'\n",
        "\n",
        "display(HTML('<div style=\"text-align: center; margin-bottom: 20px;\">¿Hay algo que desees cambiar?</div>'))\n",
        "display(HTML(f'<div style=\"display: flex; justify-content: center;\">{html_si} {html_no}</div>'))\n",
        "\n"
      ],
      "metadata": {
        "id": "gpm8sdAA7TFu",
        "colab": {
          "base_uri": "https://localhost:8080/",
          "height": 151
        },
        "outputId": "78472192-0692-48bb-f507-845176f63d10"
      },
      "execution_count": null,
      "outputs": [
        {
          "output_type": "stream",
          "name": "stdout",
          "text": [
            "¿Cuál es tu talla de camiseta? 1\n",
            "¿Cuál es la frase que va a leerse en tu camiseta? hk\n",
            "Perfecto! La talla de tu camiseta es 1 y la frase que dirá es hk 🎀\n"
          ]
        },
        {
          "output_type": "display_data",
          "data": {
            "text/plain": [
              "<IPython.core.display.HTML object>"
            ],
            "text/html": [
              "<div style=\"text-align: center; margin-bottom: 20px;\">¿Hay algo que desees cambiar?</div>"
            ]
          },
          "metadata": {}
        },
        {
          "output_type": "display_data",
          "data": {
            "text/plain": [
              "<IPython.core.display.HTML object>"
            ],
            "text/html": [
              "<div style=\"display: flex; justify-content: center;\"><button onclick=\"boton_si(event)\" style=\"padding: 10px; background-color: #CCCCFF; border: none; cursor: pointer; margin: 5px;\">Sí</button> <button onclick=\"boton_no(event)\" style=\"padding: 10px; background-color: #9FE2BF; border: none; cursor: pointer; margin: 5px;\">No</button></div>"
            ]
          },
          "metadata": {}
        }
      ]
    },
    {
      "cell_type": "markdown",
      "source": [
        "## Ciudades"
      ],
      "metadata": {
        "id": "Nt3l3Yua6Qzt"
      }
    },
    {
      "cell_type": "markdown",
      "source": [
        "Escribe una función llamada `describir_ciudad()` que acepte el `nombre` de una ciudad y su `país`. La función debe imprimir una frase sencilla, como \"Reykjavik está en Islandia\". Invoca la función para tres ciudades diferentes."
      ],
      "metadata": {
        "id": "koPOYar86Sx0"
      }
    },
    {
      "cell_type": "code",
      "source": [
        "# Escriba su respuesta aquí\n",
        "\n",
        "def describir_ciudad(ciudad, pais):\n",
        "    print(f\"{ciudad} está en {pais}\")\n",
        "\n",
        "describir_ciudad(\"Paris\", \"Francia\")\n",
        "describir_ciudad(\"Rio de Janeiro\", \"Brasil\")\n",
        "describir_ciudad(\"Kyoto\", \"Japón\")\n"
      ],
      "metadata": {
        "id": "d9C42UC-7Tpl",
        "colab": {
          "base_uri": "https://localhost:8080/"
        },
        "outputId": "b4b71c26-6550-4f88-ce1e-a0d1f498fccc"
      },
      "execution_count": 1,
      "outputs": [
        {
          "output_type": "stream",
          "name": "stdout",
          "text": [
            "Paris está en Francia\n",
            "Rio de Janeiro está en Brasil\n",
            "Kyoto está en Japón\n"
          ]
        }
      ]
    },
    {
      "cell_type": "markdown",
      "source": [
        "## Álbum"
      ],
      "metadata": {
        "id": "ydP0d4NI6_O_"
      }
    },
    {
      "cell_type": "markdown",
      "source": [
        "Escribe una función llamada `make_album()` que construya un diccionario que describa un álbum de música. La función debe tomar un nombre de artista y un título de álbum, y debe devolver un diccionario que contenga estos dos datos. Utiliza la función para crear tres diccionarios que representen diferentes álbumes. Imprime cada valor devuelto para mostrar que los diccionarios almacenan la información del álbum correctamente."
      ],
      "metadata": {
        "id": "_gFY51a97A4M"
      }
    },
    {
      "cell_type": "code",
      "source": [
        "# Escriba su respuesta aquí\n",
        "\n",
        "def make_album(fecha_lanzamiento, nombre_artista, titulo_album):\n",
        "    album = {\n",
        "        \"Fecha de lanzamiento\": fecha_lanzamiento,\n",
        "        \"Artista\": nombre_artista,\n",
        "        \"Album\": titulo_album\n",
        "    }\n",
        "    return album\n",
        "\n",
        "album1 = make_album(\"2024\", \"Taylor Swift\", \"The Tortured Poets Department\")\n",
        "album2 = make_album(\"2020\", \"Taylor Swift\", \"Folklore\")\n",
        "album3 = make_album(\"2020\", \"Taylor Swift\", \"Evermore\")\n",
        "album4 = make_album(\"2022\", \"Taylor Swift\", \"Midnights\")\n",
        "\n",
        "print(album1)\n",
        "print(album2)\n",
        "print(album3)\n",
        "print(album4)\n"
      ],
      "metadata": {
        "id": "G4v5JiYp7UHc",
        "colab": {
          "base_uri": "https://localhost:8080/"
        },
        "outputId": "3b9d4955-893a-44d6-e548-48885b171e10"
      },
      "execution_count": 28,
      "outputs": [
        {
          "output_type": "stream",
          "name": "stdout",
          "text": [
            "{'Fecha de lanzamiento': '2024', 'Artista': 'Taylor Swift', 'Album': 'The Tortured Poets Department'}\n",
            "{'Fecha de lanzamiento': '2020', 'Artista': 'Taylor Swift', 'Album': 'Folklore'}\n",
            "{'Fecha de lanzamiento': '2020', 'Artista': 'Taylor Swift', 'Album': 'Evermore'}\n",
            "{'Fecha de lanzamiento': '2022', 'Artista': 'Taylor Swift', 'Album': 'Midnights'}\n"
          ]
        }
      ]
    },
    {
      "cell_type": "markdown",
      "source": [
        "## Pizzas"
      ],
      "metadata": {
        "id": "WH0PoBV271OJ"
      }
    },
    {
      "cell_type": "markdown",
      "source": [
        "Piensa en al menos tres tipos de tu pizza favorita. Guarda los nombres de estas pizzas en una lista y utiliza un bucle `for` para imprimir el nombre de cada pizza.\n",
        "\n",
        "- Modifica tu bucle for para imprimir una frase con el nombre de la pizza en lugar de imprimir sólo el nombre de la pizza.\n",
        "\n",
        "- Añade una línea al final del programa, fuera del bucle for, que diga cuánto te gusta la pizza. La salida debe consistir en tres o más líneas sobre los tipos de pizza que te gustan y luego una frase adicional, como ¡Me encanta la pizza!\n",
        "\n",
        "Tip:\n",
        "\n",
        "- Puedes guiarte con este código:\n",
        "\n",
        "  ```python\n",
        "  letras = [\"A\", \"B\", \"C\", \"D\"]\n",
        "\n",
        "  for letra in letras:\n",
        "    print(letra)\n",
        "  ```"
      ],
      "metadata": {
        "id": "aiR4Bxjy73S7"
      }
    },
    {
      "cell_type": "code",
      "source": [
        "# Escriba su respuesta aquí\n",
        "\n",
        "tipos_pizza = [\"Margarita\", \"Hawaiana\", \"Pepperoni\"]\n",
        "\n",
        "for pizza in tipos_pizza:\n",
        "    print(f\"Me encanta la pizza, {pizza}!\")\n",
        "\n",
        "print(\"¡Me encanta la pizza 🍕💗!\")"
      ],
      "metadata": {
        "id": "_ehlcHGc8pNO",
        "colab": {
          "base_uri": "https://localhost:8080/"
        },
        "outputId": "2b09f0d1-4b30-4f58-89db-960f93da553a"
      },
      "execution_count": null,
      "outputs": [
        {
          "output_type": "stream",
          "name": "stdout",
          "text": [
            "Me encanta la pizza, Margarita!\n",
            "Me encanta la pizza, Hawaiana!\n",
            "Me encanta la pizza, Pepperoni!\n",
            "¡Me encanta la pizza 🍕💗!\n"
          ]
        }
      ]
    },
    {
      "cell_type": "markdown",
      "source": [
        "## Animales"
      ],
      "metadata": {
        "id": "-lNLdVXM8xYW"
      }
    },
    {
      "cell_type": "markdown",
      "source": [
        "Piensa en al menos tres animales diferentes que tengan una característica común: guarda los nombres de estos animales en una lista y utiliza un bucle for para imprimir el nombre de cada animal.\n",
        "\n",
        "- Modifica tu programa para imprimir una oración sobre cada animal, como por ejemplo \"Un perro sería una gran mascota\".\n",
        "\n",
        "- Añade una línea al final del programa indicando qué tienen en común estos animales. Podrías imprimir una frase como: \"¡Cualquiera de estos animales sería una gran mascota!\""
      ],
      "metadata": {
        "id": "Zor9BpMZ8zPz"
      }
    },
    {
      "cell_type": "code",
      "source": [
        "# Escriba su respuesta aquí\n",
        "\n",
        "animales = [\"Gato Tricolor, Gato Naranja, Gato Negro\"]\n",
        "\n",
        "# print(\"Nombres de los animales: \")\n",
        "# for animal in animales:\n",
        "#     print(animal)\n",
        "\n",
        "# for animal in animales:\n",
        "#   if animal == \"Gato Naranja\":\n",
        "#     print(f\"Un [input{animal}] puede ser posiblemente macho ya que el gen que produce el color naranja está ligado al cromosoma X.\")\n",
        "#   elif animal == \"Gato Tricolor\":\n",
        "#     print(f\"Un {animal} posiblemente sea hembra, esto se debe a que el gen que determina el color naranja está ligado al cromosoma X, y las hembras tienen dos cromosomas X (XX), lo que les permite tener ambos colores negro y naranja. También representa buena suerte en algunas culturas.\")\n",
        "#   elif animal == \"Gato Negro\":\n",
        "#     print(f\"Un {animal} simboliza mala suerte para culturas occidentales, sin embargo en el Oriente llega a ser de buena suerte, al parecer también tienen mejor resistencia a algunas enfermedades.\")\n",
        "\n",
        "for animal in animales:\n",
        "    animal = input(f\"Ingresa tu {animal} favorito: \")\n",
        "    if animal == \"Gato Naranja\":\n",
        "        print(f\"Un {animal} puede ser posiblemente macho ya que el gen que produce el color naranja está ligado al cromosoma X.\")\n",
        "    elif animal == \"Gato Tricolor\":\n",
        "        print(f\"Un {animal} posiblemente sea hembra, esto se debe a que el gen que determina el color naranja está ligado al cromosoma X, y las hembras tienen dos cromosomas X (XX), lo que les permite tener ambos colores negro y naranja. También representa buena suerte en algunas culturas.\")\n",
        "    elif animal == \"Gato Negro\":\n",
        "        print(f\"Un {animal} simboliza mala suerte para culturas occidentales, sin embargo en el Oriente llega a ser de buena suerte, al parecer también tienen mejor resistencia a algunas enfermedades.\")\n",
        "\n"
      ],
      "metadata": {
        "id": "8K-IQTZd9SXz",
        "colab": {
          "base_uri": "https://localhost:8080/"
        },
        "outputId": "f9b4e9c0-f1d4-43ef-e419-0533729787ee"
      },
      "execution_count": 22,
      "outputs": [
        {
          "output_type": "stream",
          "name": "stdout",
          "text": [
            "Ingresa tu Gato Tricolor, Gato Naranja, Gato Negro favorito: Gato Negro\n",
            "Un Gato Negro simboliza mala suerte para culturas occidentales, sin embargo en el Oriente llega a ser de buena suerte, al parecer también tienen mejor resistencia a algunas enfermedades.\n"
          ]
        }
      ]
    },
    {
      "cell_type": "markdown",
      "source": [
        "## Cubos"
      ],
      "metadata": {
        "id": "4oLF5pwI9rTn"
      }
    },
    {
      "cell_type": "markdown",
      "source": [
        "Un número elevado a la tercera potencia se llama cubo. Por ejemplo, el cubo de 2 se escribe como 2**3 en Python. Haz una lista de los 10 primeros cubos (es decir, el cubo de cada número entero del 1 al 10) y utiliza un bucle for para imprimir el valor de cada cubo."
      ],
      "metadata": {
        "id": "4LVx6hFq9s7C"
      }
    },
    {
      "cell_type": "code",
      "source": [
        "# Escriba su respuesta aquí\n",
        "\n",
        "cubos = []\n",
        "\n",
        "for i in range(1, 11):\n",
        "    cubo = i ** 3\n",
        "    cubos.append(cubo)\n",
        "\n",
        "for cubo in cubos:\n",
        "    print(cubo)\n",
        "\n"
      ],
      "metadata": {
        "id": "LYe8F9jH9_Uh"
      },
      "execution_count": null,
      "outputs": []
    },
    {
      "cell_type": "markdown",
      "source": [
        "## Comprensión de cubos"
      ],
      "metadata": {
        "id": "hM1F_WxS90vS"
      }
    },
    {
      "cell_type": "markdown",
      "source": [
        "Utiliza una lista de comprensión para generar una lista de los 10 primeros cubos.\n",
        "\n",
        "Tip:\n",
        "\n",
        "- Corre el siguiente código para que te des una idea.\n",
        "\n",
        "  ```python\n",
        "  [x + 1 for x in range(10)]\n",
        "  ```"
      ],
      "metadata": {
        "id": "jqiNgUVi92RZ"
      }
    },
    {
      "cell_type": "code",
      "source": [
        "# Escriba su respuesta aquí \n",
        "\n",
        "cubos = [x**3 for x in range(1, 11)]\n",
        "print(cubos)\n"
      ],
      "metadata": {
        "id": "YP_Psd649_wQ",
        "colab": {
          "base_uri": "https://localhost:8080/"
        },
        "outputId": "62cb986b-61b0-479c-d9f3-4a0a896be7f1"
      },
      "execution_count": 8,
      "outputs": [
        {
          "output_type": "stream",
          "name": "stdout",
          "text": [
            "[6, 6, 6, 6, 6, 6, 6, 6, 6, 6]\n"
          ]
        }
      ]
    }
  ]
}
